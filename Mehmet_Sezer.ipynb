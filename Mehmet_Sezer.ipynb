{
  "metadata": {
    "kernelspec": {
      "name": "python",
      "display_name": "Python (Pyodide)",
      "language": "python"
    },
    "language_info": {
      "codemirror_mode": {
        "name": "python",
        "version": 3
      },
      "file_extension": ".py",
      "mimetype": "text/x-python",
      "name": "python",
      "nbconvert_exporter": "python",
      "pygments_lexer": "ipython3",
      "version": "3.8"
    }
  },
  "nbformat_minor": 4,
  "nbformat": 4,
  "cells": [
    {
      "cell_type": "markdown",
      "source": "# My Data Science Notebook",
      "metadata": {}
    },
    {
      "cell_type": "markdown",
      "source": "My name is Mehmet Sezer and this notebook contains various exercises related to data science concepts.",
      "metadata": {}
    },
    {
      "cell_type": "markdown",
      "source": "Here are some of the most popular languages used in data science:\n\n1. Python  \n2. R  \n3. SQL ",
      "metadata": {}
    },
    {
      "cell_type": "markdown",
      "source": "Here are some of the most commonly used libraries in data science:\n\n1. Pandas  \n2. NumPy  \n3. Matplotlib  \n4. Scikit-learn  \n5. TensorFlow\n",
      "metadata": {}
    },
    {
      "cell_type": "markdown",
      "source": "| Data Science Tools   |\n|----------------------|\n| Jupyter Notebook     |\n| RStudio              |\n| Apache Zeppelin      |\n",
      "metadata": {}
    },
    {
      "cell_type": "markdown",
      "source": "### Examples of Arithmetic Expressions\n\nIn this section, I will explore simple arithmetic expressions like addition and multiplication using Python code.\n",
      "metadata": {}
    },
    {
      "cell_type": "code",
      "source": "result = 5 * 4\n\nfinal_result = result + 10\n\nprint(\"The final result is:\", final_result)",
      "metadata": {
        "trusted": true
      },
      "outputs": [
        {
          "name": "stdout",
          "text": "The final result is: 30\n",
          "output_type": "stream"
        }
      ],
      "execution_count": 2
    },
    {
      "cell_type": "code",
      "source": "# Converting minutes to hours\nminutes = 120\nhours = minutes / 60\n\nprint(\"200 minutes is equal to\", hours, \"hours\")\n",
      "metadata": {
        "trusted": true
      },
      "outputs": [
        {
          "name": "stdout",
          "text": "200 minutes is equal to 2.0 hours\n",
          "output_type": "stream"
        }
      ],
      "execution_count": 8
    },
    {
      "cell_type": "markdown",
      "source": "### Objectives\n\nIn this notebook, I aim to:\n\n- Understand the basics of Data Science  \n- Learn about popular programming languages used in Data Science  \n- Explore commonly used libraries and tools  \n- Practice writing and executing code in Python  \n- Convert between time units using arithmetic operations\n",
      "metadata": {}
    },
    {
      "cell_type": "markdown",
      "source": "**Author:** Mehmet Sezer\n",
      "metadata": {}
    },
    {
      "cell_type": "code",
      "source": "",
      "metadata": {
        "trusted": true
      },
      "outputs": [],
      "execution_count": null
    }
  ]
}